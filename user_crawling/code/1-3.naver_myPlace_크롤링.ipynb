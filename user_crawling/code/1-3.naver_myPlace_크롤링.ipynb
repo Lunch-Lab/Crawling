{
 "cells": [
  {
   "cell_type": "markdown",
   "metadata": {},
   "source": [
    "# User scraping \n",
    "\n",
    "- 강남역 맛집 리뷰 수가 많은 유저의 myplace를 크롤링 (목표 user 1000명)\n",
    "\n",
    "- user_profile_df : User의 아이디, 리뷰수, 팔로워, url을 저장함\n",
    "- user_df : '아이디', '리뷰', '팔로워', '매장명', '카테고리', '주소', '리뷰 내용', '세부정보', '태그', '방문일자', '재방문횟수' 를 저장함\n"
   ]
  },
  {
   "cell_type": "code",
   "execution_count": 5,
   "metadata": {},
   "outputs": [],
   "source": [
    "# 웹 드라이버 설정\n",
    "from selenium import webdriver  \n",
    "from webdriver_manager.chrome import ChromeDriverManager \n",
    "from selenium.webdriver.common.action_chains import ActionChains\n",
    "\n",
    "# 대기 관련 라이브러리\n",
    "from selenium.webdriver.support.ui import WebDriverWait \n",
    "from selenium.webdriver.support import expected_conditions as EC \n",
    "from selenium.webdriver.common.by import By\n",
    "\n",
    "# 예외 처리 관련 라이브러리\n",
    "from selenium.common.exceptions import TimeoutException, NoSuchElementException  \n",
    "\n",
    "# 웹 요소 찾기 관련 라이브러리\n",
    "from selenium.webdriver.common.by import By  \n",
    "\n",
    "from selenium.webdriver.support.ui import Select  \n",
    "from selenium.webdriver.common.keys import Keys  \n",
    "\n",
    "# 그 외 \n",
    "import time \n",
    "import warnings\n",
    "warnings.filterwarnings('ignore')\n",
    "from bs4 import BeautifulSoup \n",
    "import numpy as np  \n",
    "import pandas as pd \n",
    "import re  \n",
    "from tqdm import tqdm  # 반복문 진행 상황 시각화 모듈\n",
    "import os\n",
    "from datetime import datetime\n",
    "\n",
    "import pandas as pd\n",
    "from selenium.webdriver.common.by import By"
   ]
  },
  {
   "cell_type": "markdown",
   "metadata": {},
   "source": [
    "### 함수 "
   ]
  },
  {
   "cell_type": "code",
   "execution_count": 6,
   "metadata": {},
   "outputs": [],
   "source": [
    "# 정규 표현식으로 이모티콘, 특수문자, 아스키코드 제거\n",
    "def remove_special_characters(text):\n",
    "    pattern = r'[^\\w\\s]|_'\n",
    "    result = re.sub(pattern, '', text)\n",
    "    return result"
   ]
  },
  {
   "cell_type": "code",
   "execution_count": 7,
   "metadata": {},
   "outputs": [],
   "source": [
    "# User의 아이디, 리뷰수, 팔로워, url을 가져오는 함수 \n",
    "\n",
    "def user_profile(url) :\n",
    "    # 주소 이동\n",
    "\n",
    "    global driver\n",
    "    driver.get(url)\n",
    "    time.sleep(1)\n",
    "\n",
    "    soup = BeautifulSoup(driver.page_source, 'html.parser')\n",
    "    user_element = {}\n",
    "\n",
    "    # User ID 찾기\n",
    "    user_id_element = soup.find('button', class_='wTaI4v _2kK3N- _2we3hB')\n",
    "    user_element['아이디'] = user_id_element.text if user_id_element else None\n",
    "\n",
    "    # User의 인기도 : 리뷰수, 팔로워 찾기 \n",
    "    user_popularity = soup.find_all('button', class_='wTaI4v _15qVKh')\n",
    "    \n",
    "    for element in user_popularity:\n",
    "        em_tag = element.find('em')\n",
    "        if em_tag:\n",
    "            key = element.text.replace(em_tag.text, '').strip()\n",
    "            value = int(re.sub('[^0-9]', '', em_tag.text))  # 쉼표 제거 후 변환\n",
    "            user_element[key] = value\n",
    "    \n",
    "    # User URL\n",
    "    user_element['url'] = url\n",
    "\n",
    "    print(user_element)\n",
    "\n",
    "    return user_element\n",
    "\n",
    "def change_date_format(날짜) :\n",
    "    #  부분 추출 (년월일까지)\n",
    "    date_part = \"\"\n",
    "    for i in 날짜 :\n",
    "        date_part += i\n",
    "        date_part += ','\n",
    "    date_part = date_part.split('\\n')[1]\n",
    "\n",
    "    # 일자, 요일, 방문일수 분류하기 \n",
    "    date_part = date_part.split(',')\n",
    "\n",
    "    # '21.1.3.'에서 숫자 부분 추출\n",
    "    revisit_match = re.search(r'(\\d+\\.\\d+\\.\\d+)\\.', date_part[1])\n",
    "    if revisit_match:\n",
    "        revisit_str = revisit_match.group(1)\n",
    "        # 방문일수 정수로 변환\n",
    "        revisit = int(revisit_str.replace('.', ''))\n",
    "    else:\n",
    "        revisit = 0  # 또는 다른 기본값으로 설정\n",
    "\n",
    "    # 일자 타입 변경하기 \n",
    "    date = date_part[0]\n",
    "    weekday = date[-3:]\n",
    "    match = re.findall(r'(\\d+)년 (\\d+)월 (\\d+)일', date) # 타입 바꾸기 \n",
    "    \n",
    "    if match:\n",
    "        year, month, day = map(int, match[0])\n",
    "\n",
    "        # 날짜 객체로 변환\n",
    "        date_object = datetime(2000 + year, month, day) \n",
    "        formatted_date = date_object.strftime('%Y-%m-%d')\n",
    "    else:\n",
    "        formatted_date = ''  # 또는 다른 기본값으로 설정\n",
    "    \n",
    "    return formatted_date, weekday, revisit\n"
   ]
  },
  {
   "cell_type": "code",
   "execution_count": 63,
   "metadata": {},
   "outputs": [],
   "source": [
    "# \"내용 더보기\" 텍스트를 포함하는 버튼 찾기\n",
    "\n",
    "def click_read_more_button(driver):\n",
    "    buttons = driver.find_elements(By.XPATH, '//button[contains(.,\"내용 더보기\")]')\n",
    "    if buttons:\n",
    "        first_button = buttons[0]\n",
    "        first_button.click()\n",
    "\n",
    "\n"
   ]
  },
  {
   "cell_type": "code",
   "execution_count": 65,
   "metadata": {},
   "outputs": [],
   "source": [
    "# 유저 리뷰 가져오는 함수 \n",
    "def find_user_data(page_down,driver) : \n",
    "\n",
    " \n",
    "    # data를 담을 빈 리스트 선언\n",
    "    data_list = [] \n",
    "\n",
    "    # # 버튼을 클래스로 찾아 리스트로 가져오기\n",
    "    # buttons = driver.find_elements(By.CLASS_NAME, '_3P-5HQ')\n",
    "    # if buttons:\n",
    "    #     first_button = buttons[0]\n",
    "    #     first_button.click()\n",
    "\n",
    "    # 맨 처음 게시물 클릭 \n",
    "    button = driver.find_element(By.CLASS_NAME, '_3P-5HQ')\n",
    "    button.click()\n",
    "    time.sleep(5)\n",
    "\n",
    "    html = driver.page_source\n",
    "    soup = BeautifulSoup(driver.page_source, 'html.parser')\n",
    "\n",
    "\n",
    "    # 페이지 아래로 내리기 \n",
    "    for _ in range(page_down):\n",
    "\n",
    "        # '내용더보기' 버튼들 찾고 죄다 클릭해두기  \n",
    "        try :\n",
    "            click_read_more_button(driver)\n",
    "        except :\n",
    "            pass \n",
    "                \n",
    "        # 다음 페이지로 잘 넘어갔는지 기다리기 \n",
    "        wait = WebDriverWait(driver, 10)\n",
    "        user_review_elements = wait.until(\n",
    "            EC.presence_of_all_elements_located((By.CLASS_NAME, '_27tH92')))\n",
    "        driver.find_element(By.TAG_NAME, 'body').send_keys(Keys.PAGE_DOWN) \n",
    "\n",
    "\n",
    "        # 리뷰에서 정보 가져오기\n",
    "        for reviews_elements in user_review_elements:\n",
    "            i = 0 # 카테고리와 주소 구분할 때 사용\n",
    "            restaurant_elements=reviews_elements.find_elements(By.CLASS_NAME, '_1QGRWW')\n",
    "\n",
    "            if bool(restaurant_elements): # 정보가 없는 경우가 있음\n",
    "\n",
    "                # 매장명 찾기\n",
    "                restaurant_name = restaurant_elements[0].text  \n",
    "\n",
    "        #<--------------------------------------------------------------------------------------------------->\n",
    "                # 카테고리와 주소 찾기 \n",
    "                category_location_elements = reviews_elements.find_elements(By.CLASS_NAME, '_2vBfgu')\n",
    "                i = 0  # i 초기화\n",
    "                for category_location_element in category_location_elements:\n",
    "                    category_location_soup = BeautifulSoup(category_location_element.get_attribute('outerHTML'), 'html.parser')\n",
    "                \n",
    "                    # span 태그 안에 있는 텍스트 가져오기\n",
    "                    span_elements = category_location_soup.find_all('span', class_='wzFIfJ')\n",
    "                    category = span_elements[0].text if span_elements and len(span_elements) > 0 else '없음'\n",
    "                    location = span_elements[1].text if span_elements and len(span_elements) > 1 else '없음'\n",
    "                #<--------------------------------------------------------------------------------------------------->\n",
    "\n",
    "                    review_elements = reviews_elements.find_elements(By.CLASS_NAME,'z0t_8b')\n",
    "                    try : \n",
    "                        review_text = review_elements[0].text # 리뷰 본문      \n",
    "                        review_text = remove_special_characters(review_text)\n",
    "                        sub_info_elements = reviews_elements.find_elements(By.CLASS_NAME,'_1tkuel') # 세부정보\n",
    "                        sub_info = sub_info_elements[0].text if sub_info_elements else None\n",
    "                    except :\n",
    "                        review_text = '리뷰 없음'\n",
    "                        sub_info = ''\n",
    "                #<--------------------------------------------------------------------------------------------------->\n",
    "                    # tag 찾기 \n",
    "                    reactions_elements = reviews_elements.find_elements(By.CLASS_NAME, 'COw42b')  # 리엑션 리스트\n",
    "                    command = False\n",
    "\n",
    "                    for x in reactions_elements:\n",
    "                        if x.get_attribute(\"role\"):  # 리액션 숨김 없애기\n",
    "                            try:\n",
    "                                # 요소가 클릭 가능할 때까지 대기\n",
    "                                wait = WebDriverWait(driver, 10)\n",
    "                                reaction_element = wait.until(EC.element_to_be_clickable((By.CLASS_NAME, 'COw42b')))\n",
    "                                \n",
    "                                # JavaScript를 사용하여 요소 클릭\n",
    "                                driver.execute_script(\"arguments[0].click();\", reaction_element)\n",
    "                                \n",
    "                                command = True\n",
    "                            except:\n",
    "                                continue\n",
    "\n",
    "                    if command:\n",
    "                        # 리엑션 리스트 재탐색\n",
    "                        reactions_elements = reviews_elements.find_elements(By.CLASS_NAME, 'COw42b')\n",
    "\n",
    "                    # 리스트를 벗김\n",
    "                    reactions = list(map(lambda x: x.text, reactions_elements))\n",
    "                    reactions = str(reactions).replace('[', '').replace(']', '')                    \n",
    "\n",
    "                #<--------------------------------------------------------------------------------------------------->\n",
    "                    # 방문 일자, 재방문 이력 찾기\n",
    "                    date_info = reviews_elements.find_element(By.CLASS_NAME, '_15xwjO .hol3Ic').find_elements(By.CLASS_NAME,'_3nNYBi')\n",
    "                    date=[x.text for x in date_info]\n",
    "                    day,weekday,revisit = change_date_format(date) # 함수 사용\n",
    "\n",
    "                    global user_data\n",
    "\n",
    "                    # 정보 추가\n",
    "                    data_dict = {\n",
    "                        '아이디' : user_data['아이디'],\n",
    "                        '매장명': restaurant_name,\n",
    "                        '카테고리': category,\n",
    "                        '주소' : location,\n",
    "                        '리뷰 내용': review_text,\n",
    "                        \"세부정보\" : sub_info,\n",
    "                        '태그': reactions,\n",
    "                        '방문일자': day,\n",
    "                        '요일' : weekday,\n",
    "                        '재방문횟수':revisit\n",
    "                    }\n",
    "                    data_list.append(data_dict)\n",
    "\n",
    "        user_df = pd.DataFrame(data_list)\n",
    "        user_df = user_df.drop_duplicates()\n",
    "\n",
    "    return user_df\n",
    "\n"
   ]
  },
  {
   "cell_type": "code",
   "execution_count": 9,
   "metadata": {},
   "outputs": [
    {
     "data": {
      "text/html": [
       "<div>\n",
       "<style scoped>\n",
       "    .dataframe tbody tr th:only-of-type {\n",
       "        vertical-align: middle;\n",
       "    }\n",
       "\n",
       "    .dataframe tbody tr th {\n",
       "        vertical-align: top;\n",
       "    }\n",
       "\n",
       "    .dataframe thead th {\n",
       "        text-align: right;\n",
       "    }\n",
       "</style>\n",
       "<table border=\"1\" class=\"dataframe\">\n",
       "  <thead>\n",
       "    <tr style=\"text-align: right;\">\n",
       "      <th></th>\n",
       "      <th>검색어</th>\n",
       "      <th>아이디</th>\n",
       "      <th>url</th>\n",
       "    </tr>\n",
       "  </thead>\n",
       "  <tbody>\n",
       "    <tr>\n",
       "      <th>0</th>\n",
       "      <td>언주로168길 33, 런던베이글뮤지엄</td>\n",
       "      <td>PoliPoli</td>\n",
       "      <td>https://m.place.naver.com/my/5b9ba11bd551b9e30...</td>\n",
       "    </tr>\n",
       "    <tr>\n",
       "      <th>1</th>\n",
       "      <td>언주로168길 33, 런던베이글뮤지엄</td>\n",
       "      <td>Ms piggy</td>\n",
       "      <td>https://m.place.naver.com/my/5b9c2bbb461a89e6d...</td>\n",
       "    </tr>\n",
       "    <tr>\n",
       "      <th>2</th>\n",
       "      <td>언주로168길 33, 런던베이글뮤지엄</td>\n",
       "      <td>PoliPoli</td>\n",
       "      <td>https://m.place.naver.com/my/5b9ba11bd551b9e30...</td>\n",
       "    </tr>\n",
       "    <tr>\n",
       "      <th>3</th>\n",
       "      <td>영동대로 513, 에그슬럿</td>\n",
       "      <td>이랴챠챠</td>\n",
       "      <td>https://m.place.naver.com/my/5df49f3e8f87a842b...</td>\n",
       "    </tr>\n",
       "    <tr>\n",
       "      <th>4</th>\n",
       "      <td>영동대로 513, 에그슬럿</td>\n",
       "      <td>빙그레7955</td>\n",
       "      <td>https://m.place.naver.com/my/5e58afd88f87a842b...</td>\n",
       "    </tr>\n",
       "    <tr>\n",
       "      <th>...</th>\n",
       "      <td>...</td>\n",
       "      <td>...</td>\n",
       "      <td>...</td>\n",
       "    </tr>\n",
       "    <tr>\n",
       "      <th>214</th>\n",
       "      <td>광평로 280 버거킹수서점</td>\n",
       "      <td>황금들녘78</td>\n",
       "      <td>https://m.place.naver.com/my/5d5e60f18f87a842b...</td>\n",
       "    </tr>\n",
       "    <tr>\n",
       "      <th>215</th>\n",
       "      <td>광평로 280 버거킹수서점</td>\n",
       "      <td>솔솔딸둥이네</td>\n",
       "      <td>https://m.place.naver.com/my/5e400e068f87a842b...</td>\n",
       "    </tr>\n",
       "    <tr>\n",
       "      <th>216</th>\n",
       "      <td>강남대로98길 14, 알부자</td>\n",
       "      <td>쑤9249</td>\n",
       "      <td>https://m.place.naver.com/my/5efdee1d0765f4dd1...</td>\n",
       "    </tr>\n",
       "    <tr>\n",
       "      <th>217</th>\n",
       "      <td>강남대로98길 14, 알부자</td>\n",
       "      <td>퀸지</td>\n",
       "      <td>https://m.place.naver.com/my/5b9b228841fc103c8...</td>\n",
       "    </tr>\n",
       "    <tr>\n",
       "      <th>218</th>\n",
       "      <td>강남대로98길 14, 알부자</td>\n",
       "      <td>dusgml8004</td>\n",
       "      <td>https://m.place.naver.com/my/5b7be1ce3543038ce...</td>\n",
       "    </tr>\n",
       "  </tbody>\n",
       "</table>\n",
       "<p>219 rows × 3 columns</p>\n",
       "</div>"
      ],
      "text/plain": [
       "                      검색어         아이디  \\\n",
       "0    언주로168길 33, 런던베이글뮤지엄    PoliPoli   \n",
       "1    언주로168길 33, 런던베이글뮤지엄    Ms piggy   \n",
       "2    언주로168길 33, 런던베이글뮤지엄    PoliPoli   \n",
       "3          영동대로 513, 에그슬럿        이랴챠챠   \n",
       "4          영동대로 513, 에그슬럿     빙그레7955   \n",
       "..                    ...         ...   \n",
       "214        광평로 280 버거킹수서점      황금들녘78   \n",
       "215        광평로 280 버거킹수서점      솔솔딸둥이네   \n",
       "216       강남대로98길 14, 알부자       쑤9249   \n",
       "217       강남대로98길 14, 알부자          퀸지   \n",
       "218       강남대로98길 14, 알부자  dusgml8004   \n",
       "\n",
       "                                                   url  \n",
       "0    https://m.place.naver.com/my/5b9ba11bd551b9e30...  \n",
       "1    https://m.place.naver.com/my/5b9c2bbb461a89e6d...  \n",
       "2    https://m.place.naver.com/my/5b9ba11bd551b9e30...  \n",
       "3    https://m.place.naver.com/my/5df49f3e8f87a842b...  \n",
       "4    https://m.place.naver.com/my/5e58afd88f87a842b...  \n",
       "..                                                 ...  \n",
       "214  https://m.place.naver.com/my/5d5e60f18f87a842b...  \n",
       "215  https://m.place.naver.com/my/5e400e068f87a842b...  \n",
       "216  https://m.place.naver.com/my/5efdee1d0765f4dd1...  \n",
       "217  https://m.place.naver.com/my/5b9b228841fc103c8...  \n",
       "218  https://m.place.naver.com/my/5b7be1ce3543038ce...  \n",
       "\n",
       "[219 rows x 3 columns]"
      ]
     },
     "execution_count": 9,
     "metadata": {},
     "output_type": "execute_result"
    }
   ],
   "source": [
    "url_list = pd.read_excel('data/4_1_naver_user_크롤링.xlsx')\n",
    "url_list"
   ]
  },
  {
   "cell_type": "markdown",
   "metadata": {},
   "source": [
    "### url에 들어가서 유저 정보와 리뷰 저장"
   ]
  },
  {
   "cell_type": "code",
   "execution_count": 66,
   "metadata": {},
   "outputs": [
    {
     "name": "stderr",
     "output_type": "stream",
     "text": [
      "진행 중:   0%|          | 0/219 [00:00<?, ?it/s]"
     ]
    },
    {
     "name": "stdout",
     "output_type": "stream",
     "text": [
      "{'아이디': None, 'url': 'https://m.place.naver.com/my/5b9ba11bd551b9e3094f6329/review?v=2'}\n"
     ]
    },
    {
     "name": "stderr",
     "output_type": "stream",
     "text": [
      "진행 중:   0%|          | 1/219 [00:03<12:01,  3.31s/it]"
     ]
    },
    {
     "name": "stdout",
     "output_type": "stream",
     "text": [
      "에러 메시지: Message: no such element: Unable to locate element: {\"method\":\"css selector\",\"selector\":\"._3P-5HQ\"}\n",
      "  (Session info: chrome=123.0.6312.106)\n",
      "\n",
      "{'아이디': 'Ms piggy', '리뷰': 337, '팔로워': 96, '팔로잉': 16, 'url': 'https://m.place.naver.com/my/5b9c2bbb461a89e6d32f3a69/review?v=2'}\n"
     ]
    },
    {
     "name": "stderr",
     "output_type": "stream",
     "text": [
      "진행 중:   1%|          | 2/219 [00:31<1:04:01, 17.70s/it]"
     ]
    },
    {
     "name": "stdout",
     "output_type": "stream",
     "text": [
      "{'아이디': 'PoliPoli', '리뷰': 1579, '팔로워': 0, '팔로잉': 0, 'url': 'https://m.place.naver.com/my/5b9ba11bd551b9e3094f6329/review?v=2'}\n"
     ]
    },
    {
     "name": "stderr",
     "output_type": "stream",
     "text": [
      "진행 중:   1%|▏         | 3/219 [00:49<1:04:43, 17.98s/it]"
     ]
    },
    {
     "name": "stdout",
     "output_type": "stream",
     "text": [
      "에러 메시지: Message: stale element reference: stale element not found in the current frame\n",
      "  (Session info: chrome=123.0.6312.106)\n",
      "\n",
      "{'아이디': '이랴챠챠', '리뷰': 1332, '팔로워': 67, '팔로잉': 2, 'url': 'https://m.place.naver.com/my/5df49f3e8f87a842bce2d2a1/review?v=2'}\n"
     ]
    },
    {
     "name": "stderr",
     "output_type": "stream",
     "text": [
      "진행 중:   2%|▏         | 4/219 [00:57<50:30, 14.10s/it]  "
     ]
    },
    {
     "name": "stdout",
     "output_type": "stream",
     "text": [
      "에러 메시지: Message: stale element reference: stale element not found in the current frame\n",
      "  (Session info: chrome=123.0.6312.106)\n",
      "\n",
      "{'아이디': '빙그레7955', '리뷰': 518, '팔로워': 42, '팔로잉': 28, 'url': 'https://m.place.naver.com/my/5e58afd88f87a842bce536b3/review?v=2'}\n"
     ]
    },
    {
     "name": "stderr",
     "output_type": "stream",
     "text": [
      "진행 중:   2%|▏         | 5/219 [01:06<43:15, 12.13s/it]"
     ]
    },
    {
     "name": "stdout",
     "output_type": "stream",
     "text": [
      "에러 메시지: Message: stale element reference: stale element not found in the current frame\n",
      "  (Session info: chrome=123.0.6312.106)\n",
      "\n",
      "{'아이디': '노웨이아웃', '리뷰': 567, '팔로워': 4, '팔로잉': 1, 'url': 'https://m.place.naver.com/my/5efe46c515c4bcd43058fd6f/review?v=2'}\n"
     ]
    },
    {
     "name": "stderr",
     "output_type": "stream",
     "text": [
      "진행 중:   3%|▎         | 6/219 [01:24<50:15, 14.16s/it]"
     ]
    },
    {
     "name": "stdout",
     "output_type": "stream",
     "text": [
      "{'아이디': '미피미피키키', '리뷰': 361, '팔로워': 34, '팔로잉': 0, 'url': 'https://m.place.naver.com/my/5dd1bfe28f87a842bca7cf28/review?v=2'}\n"
     ]
    },
    {
     "name": "stderr",
     "output_type": "stream",
     "text": [
      "진행 중:   3%|▎         | 7/219 [01:40<52:12, 14.78s/it]"
     ]
    },
    {
     "name": "stdout",
     "output_type": "stream",
     "text": [
      "{'아이디': 'Good Luck37', '리뷰': 1622, '팔로워': 0, '팔로잉': 0, 'url': 'https://m.place.naver.com/my/5c775302c018e29cdc732e67/review?v=2'}\n"
     ]
    },
    {
     "name": "stderr",
     "output_type": "stream",
     "text": [
      "진행 중:   4%|▎         | 8/219 [01:54<51:50, 14.74s/it]"
     ]
    },
    {
     "name": "stdout",
     "output_type": "stream",
     "text": [
      "{'아이디': '우유져아54', '리뷰': 258, '팔로워': 0, '팔로잉': 0, 'url': 'https://m.place.naver.com/my/5bd42eacde79f0cc92ac38c7/review?v=2'}\n"
     ]
    },
    {
     "name": "stderr",
     "output_type": "stream",
     "text": [
      "진행 중:   4%|▎         | 8/219 [02:09<56:56, 16.19s/it]\n"
     ]
    },
    {
     "ename": "KeyboardInterrupt",
     "evalue": "",
     "output_type": "error",
     "traceback": [
      "\u001b[1;31m---------------------------------------------------------------------------\u001b[0m",
      "\u001b[1;31mKeyboardInterrupt\u001b[0m                         Traceback (most recent call last)",
      "Input \u001b[1;32mIn [66]\u001b[0m, in \u001b[0;36m<cell line: 16>\u001b[1;34m()\u001b[0m\n\u001b[0;32m     23\u001b[0m user_profile_df \u001b[38;5;241m=\u001b[39m pd\u001b[38;5;241m.\u001b[39mconcat([user_profile_df, user_data_df], ignore_index\u001b[38;5;241m=\u001b[39m\u001b[38;5;28;01mTrue\u001b[39;00m)\n\u001b[0;32m     25\u001b[0m \u001b[38;5;66;03m# User review 정보를 가져오는 함수\u001b[39;00m\n\u001b[1;32m---> 26\u001b[0m user_df \u001b[38;5;241m=\u001b[39m \u001b[43mfind_user_data\u001b[49m\u001b[43m(\u001b[49m\u001b[43mpage_down\u001b[49m\u001b[43m,\u001b[49m\u001b[43m \u001b[49m\u001b[43mdriver\u001b[49m\u001b[43m)\u001b[49m\n\u001b[0;32m     28\u001b[0m \u001b[38;5;66;03m# User review 정보 저장 \u001b[39;00m\n\u001b[0;32m     29\u001b[0m total_user_df \u001b[38;5;241m=\u001b[39m pd\u001b[38;5;241m.\u001b[39mconcat([total_user_df, user_df], ignore_index\u001b[38;5;241m=\u001b[39m\u001b[38;5;28;01mTrue\u001b[39;00m)\n",
      "Input \u001b[1;32mIn [65]\u001b[0m, in \u001b[0;36mfind_user_data\u001b[1;34m(page_down, driver)\u001b[0m\n\u001b[0;32m     52\u001b[0m i \u001b[38;5;241m=\u001b[39m \u001b[38;5;241m0\u001b[39m  \u001b[38;5;66;03m# i 초기화\u001b[39;00m\n\u001b[0;32m     53\u001b[0m \u001b[38;5;28;01mfor\u001b[39;00m category_location_element \u001b[38;5;129;01min\u001b[39;00m category_location_elements:\n\u001b[1;32m---> 54\u001b[0m     category_location_soup \u001b[38;5;241m=\u001b[39m BeautifulSoup(\u001b[43mcategory_location_element\u001b[49m\u001b[38;5;241;43m.\u001b[39;49m\u001b[43mget_attribute\u001b[49m\u001b[43m(\u001b[49m\u001b[38;5;124;43m'\u001b[39;49m\u001b[38;5;124;43mouterHTML\u001b[39;49m\u001b[38;5;124;43m'\u001b[39;49m\u001b[43m)\u001b[49m, \u001b[38;5;124m'\u001b[39m\u001b[38;5;124mhtml.parser\u001b[39m\u001b[38;5;124m'\u001b[39m)\n\u001b[0;32m     56\u001b[0m     \u001b[38;5;66;03m# span 태그 안에 있는 텍스트 가져오기\u001b[39;00m\n\u001b[0;32m     57\u001b[0m     span_elements \u001b[38;5;241m=\u001b[39m category_location_soup\u001b[38;5;241m.\u001b[39mfind_all(\u001b[38;5;124m'\u001b[39m\u001b[38;5;124mspan\u001b[39m\u001b[38;5;124m'\u001b[39m, class_\u001b[38;5;241m=\u001b[39m\u001b[38;5;124m'\u001b[39m\u001b[38;5;124mwzFIfJ\u001b[39m\u001b[38;5;124m'\u001b[39m)\n",
      "File \u001b[1;32mc:\\Users\\hare0\\AppData\\Local\\Programs\\Python\\Python310\\lib\\site-packages\\selenium\\webdriver\\remote\\webelement.py:139\u001b[0m, in \u001b[0;36mWebElement.get_attribute\u001b[1;34m(self, name)\u001b[0m\n\u001b[0;32m    137\u001b[0m attributeValue \u001b[38;5;241m=\u001b[39m \u001b[38;5;124m'\u001b[39m\u001b[38;5;124m'\u001b[39m\n\u001b[0;32m    138\u001b[0m \u001b[38;5;28;01mif\u001b[39;00m \u001b[38;5;28mself\u001b[39m\u001b[38;5;241m.\u001b[39m_w3c:\n\u001b[1;32m--> 139\u001b[0m     attributeValue \u001b[38;5;241m=\u001b[39m \u001b[38;5;28;43mself\u001b[39;49m\u001b[38;5;241;43m.\u001b[39;49m\u001b[43mparent\u001b[49m\u001b[38;5;241;43m.\u001b[39;49m\u001b[43mexecute_script\u001b[49m\u001b[43m(\u001b[49m\n\u001b[0;32m    140\u001b[0m \u001b[43m        \u001b[49m\u001b[38;5;124;43m\"\u001b[39;49m\u001b[38;5;124;43mreturn (\u001b[39;49m\u001b[38;5;132;43;01m%s\u001b[39;49;00m\u001b[38;5;124;43m).apply(null, arguments);\u001b[39;49m\u001b[38;5;124;43m\"\u001b[39;49m\u001b[43m \u001b[49m\u001b[38;5;241;43m%\u001b[39;49m\u001b[43m \u001b[49m\u001b[43mgetAttribute_js\u001b[49m\u001b[43m,\u001b[49m\n\u001b[0;32m    141\u001b[0m \u001b[43m        \u001b[49m\u001b[38;5;28;43mself\u001b[39;49m\u001b[43m,\u001b[49m\u001b[43m \u001b[49m\u001b[43mname\u001b[49m\u001b[43m)\u001b[49m\n\u001b[0;32m    142\u001b[0m \u001b[38;5;28;01melse\u001b[39;00m:\n\u001b[0;32m    143\u001b[0m     resp \u001b[38;5;241m=\u001b[39m \u001b[38;5;28mself\u001b[39m\u001b[38;5;241m.\u001b[39m_execute(Command\u001b[38;5;241m.\u001b[39mGET_ELEMENT_ATTRIBUTE, {\u001b[38;5;124m'\u001b[39m\u001b[38;5;124mname\u001b[39m\u001b[38;5;124m'\u001b[39m: name})\n",
      "File \u001b[1;32mc:\\Users\\hare0\\AppData\\Local\\Programs\\Python\\Python310\\lib\\site-packages\\selenium\\webdriver\\remote\\webdriver.py:634\u001b[0m, in \u001b[0;36mWebDriver.execute_script\u001b[1;34m(self, script, *args)\u001b[0m\n\u001b[0;32m    631\u001b[0m \u001b[38;5;28;01melse\u001b[39;00m:\n\u001b[0;32m    632\u001b[0m     command \u001b[38;5;241m=\u001b[39m Command\u001b[38;5;241m.\u001b[39mEXECUTE_SCRIPT\n\u001b[1;32m--> 634\u001b[0m \u001b[38;5;28;01mreturn\u001b[39;00m \u001b[38;5;28;43mself\u001b[39;49m\u001b[38;5;241;43m.\u001b[39;49m\u001b[43mexecute\u001b[49m\u001b[43m(\u001b[49m\u001b[43mcommand\u001b[49m\u001b[43m,\u001b[49m\u001b[43m \u001b[49m\u001b[43m{\u001b[49m\n\u001b[0;32m    635\u001b[0m \u001b[43m    \u001b[49m\u001b[38;5;124;43m'\u001b[39;49m\u001b[38;5;124;43mscript\u001b[39;49m\u001b[38;5;124;43m'\u001b[39;49m\u001b[43m:\u001b[49m\u001b[43m \u001b[49m\u001b[43mscript\u001b[49m\u001b[43m,\u001b[49m\n\u001b[0;32m    636\u001b[0m \u001b[43m    \u001b[49m\u001b[38;5;124;43m'\u001b[39;49m\u001b[38;5;124;43margs\u001b[39;49m\u001b[38;5;124;43m'\u001b[39;49m\u001b[43m:\u001b[49m\u001b[43m \u001b[49m\u001b[43mconverted_args\u001b[49m\u001b[43m}\u001b[49m\u001b[43m)\u001b[49m[\u001b[38;5;124m'\u001b[39m\u001b[38;5;124mvalue\u001b[39m\u001b[38;5;124m'\u001b[39m]\n",
      "File \u001b[1;32mc:\\Users\\hare0\\AppData\\Local\\Programs\\Python\\Python310\\lib\\site-packages\\selenium\\webdriver\\remote\\webdriver.py:319\u001b[0m, in \u001b[0;36mWebDriver.execute\u001b[1;34m(self, driver_command, params)\u001b[0m\n\u001b[0;32m    316\u001b[0m         params[\u001b[38;5;124m'\u001b[39m\u001b[38;5;124msessionId\u001b[39m\u001b[38;5;124m'\u001b[39m] \u001b[38;5;241m=\u001b[39m \u001b[38;5;28mself\u001b[39m\u001b[38;5;241m.\u001b[39msession_id\n\u001b[0;32m    318\u001b[0m params \u001b[38;5;241m=\u001b[39m \u001b[38;5;28mself\u001b[39m\u001b[38;5;241m.\u001b[39m_wrap_value(params)\n\u001b[1;32m--> 319\u001b[0m response \u001b[38;5;241m=\u001b[39m \u001b[38;5;28;43mself\u001b[39;49m\u001b[38;5;241;43m.\u001b[39;49m\u001b[43mcommand_executor\u001b[49m\u001b[38;5;241;43m.\u001b[39;49m\u001b[43mexecute\u001b[49m\u001b[43m(\u001b[49m\u001b[43mdriver_command\u001b[49m\u001b[43m,\u001b[49m\u001b[43m \u001b[49m\u001b[43mparams\u001b[49m\u001b[43m)\u001b[49m\n\u001b[0;32m    320\u001b[0m \u001b[38;5;28;01mif\u001b[39;00m response:\n\u001b[0;32m    321\u001b[0m     \u001b[38;5;28mself\u001b[39m\u001b[38;5;241m.\u001b[39merror_handler\u001b[38;5;241m.\u001b[39mcheck_response(response)\n",
      "File \u001b[1;32mc:\\Users\\hare0\\AppData\\Local\\Programs\\Python\\Python310\\lib\\site-packages\\selenium\\webdriver\\remote\\remote_connection.py:374\u001b[0m, in \u001b[0;36mRemoteConnection.execute\u001b[1;34m(self, command, params)\u001b[0m\n\u001b[0;32m    372\u001b[0m data \u001b[38;5;241m=\u001b[39m utils\u001b[38;5;241m.\u001b[39mdump_json(params)\n\u001b[0;32m    373\u001b[0m url \u001b[38;5;241m=\u001b[39m \u001b[38;5;124m'\u001b[39m\u001b[38;5;132;01m%s\u001b[39;00m\u001b[38;5;132;01m%s\u001b[39;00m\u001b[38;5;124m'\u001b[39m \u001b[38;5;241m%\u001b[39m (\u001b[38;5;28mself\u001b[39m\u001b[38;5;241m.\u001b[39m_url, path)\n\u001b[1;32m--> 374\u001b[0m \u001b[38;5;28;01mreturn\u001b[39;00m \u001b[38;5;28;43mself\u001b[39;49m\u001b[38;5;241;43m.\u001b[39;49m\u001b[43m_request\u001b[49m\u001b[43m(\u001b[49m\u001b[43mcommand_info\u001b[49m\u001b[43m[\u001b[49m\u001b[38;5;241;43m0\u001b[39;49m\u001b[43m]\u001b[49m\u001b[43m,\u001b[49m\u001b[43m \u001b[49m\u001b[43murl\u001b[49m\u001b[43m,\u001b[49m\u001b[43m \u001b[49m\u001b[43mbody\u001b[49m\u001b[38;5;241;43m=\u001b[39;49m\u001b[43mdata\u001b[49m\u001b[43m)\u001b[49m\n",
      "File \u001b[1;32mc:\\Users\\hare0\\AppData\\Local\\Programs\\Python\\Python310\\lib\\site-packages\\selenium\\webdriver\\remote\\remote_connection.py:397\u001b[0m, in \u001b[0;36mRemoteConnection._request\u001b[1;34m(self, method, url, body)\u001b[0m\n\u001b[0;32m    394\u001b[0m     body \u001b[38;5;241m=\u001b[39m \u001b[38;5;28;01mNone\u001b[39;00m\n\u001b[0;32m    396\u001b[0m \u001b[38;5;28;01mif\u001b[39;00m \u001b[38;5;28mself\u001b[39m\u001b[38;5;241m.\u001b[39mkeep_alive:\n\u001b[1;32m--> 397\u001b[0m     resp \u001b[38;5;241m=\u001b[39m \u001b[38;5;28;43mself\u001b[39;49m\u001b[38;5;241;43m.\u001b[39;49m\u001b[43m_conn\u001b[49m\u001b[38;5;241;43m.\u001b[39;49m\u001b[43mrequest\u001b[49m\u001b[43m(\u001b[49m\u001b[43mmethod\u001b[49m\u001b[43m,\u001b[49m\u001b[43m \u001b[49m\u001b[43murl\u001b[49m\u001b[43m,\u001b[49m\u001b[43m \u001b[49m\u001b[43mbody\u001b[49m\u001b[38;5;241;43m=\u001b[39;49m\u001b[43mbody\u001b[49m\u001b[43m,\u001b[49m\u001b[43m \u001b[49m\u001b[43mheaders\u001b[49m\u001b[38;5;241;43m=\u001b[39;49m\u001b[43mheaders\u001b[49m\u001b[43m)\u001b[49m\n\u001b[0;32m    399\u001b[0m     statuscode \u001b[38;5;241m=\u001b[39m resp\u001b[38;5;241m.\u001b[39mstatus\n\u001b[0;32m    400\u001b[0m \u001b[38;5;28;01melse\u001b[39;00m:\n",
      "File \u001b[1;32mc:\\Users\\hare0\\AppData\\Local\\Programs\\Python\\Python310\\lib\\site-packages\\urllib3\\request.py:78\u001b[0m, in \u001b[0;36mRequestMethods.request\u001b[1;34m(self, method, url, fields, headers, **urlopen_kw)\u001b[0m\n\u001b[0;32m     74\u001b[0m     \u001b[38;5;28;01mreturn\u001b[39;00m \u001b[38;5;28mself\u001b[39m\u001b[38;5;241m.\u001b[39mrequest_encode_url(\n\u001b[0;32m     75\u001b[0m         method, url, fields\u001b[38;5;241m=\u001b[39mfields, headers\u001b[38;5;241m=\u001b[39mheaders, \u001b[38;5;241m*\u001b[39m\u001b[38;5;241m*\u001b[39murlopen_kw\n\u001b[0;32m     76\u001b[0m     )\n\u001b[0;32m     77\u001b[0m \u001b[38;5;28;01melse\u001b[39;00m:\n\u001b[1;32m---> 78\u001b[0m     \u001b[38;5;28;01mreturn\u001b[39;00m \u001b[38;5;28mself\u001b[39m\u001b[38;5;241m.\u001b[39mrequest_encode_body(\n\u001b[0;32m     79\u001b[0m         method, url, fields\u001b[38;5;241m=\u001b[39mfields, headers\u001b[38;5;241m=\u001b[39mheaders, \u001b[38;5;241m*\u001b[39m\u001b[38;5;241m*\u001b[39murlopen_kw\n\u001b[0;32m     80\u001b[0m     )\n",
      "File \u001b[1;32mc:\\Users\\hare0\\AppData\\Local\\Programs\\Python\\Python310\\lib\\site-packages\\urllib3\\request.py:170\u001b[0m, in \u001b[0;36mRequestMethods.request_encode_body\u001b[1;34m(self, method, url, fields, headers, encode_multipart, multipart_boundary, **urlopen_kw)\u001b[0m\n\u001b[0;32m    167\u001b[0m extra_kw[\u001b[38;5;124m\"\u001b[39m\u001b[38;5;124mheaders\u001b[39m\u001b[38;5;124m\"\u001b[39m]\u001b[38;5;241m.\u001b[39mupdate(headers)\n\u001b[0;32m    168\u001b[0m extra_kw\u001b[38;5;241m.\u001b[39mupdate(urlopen_kw)\n\u001b[1;32m--> 170\u001b[0m \u001b[38;5;28;01mreturn\u001b[39;00m \u001b[38;5;28mself\u001b[39m\u001b[38;5;241m.\u001b[39murlopen(method, url, \u001b[38;5;241m*\u001b[39m\u001b[38;5;241m*\u001b[39mextra_kw)\n",
      "File \u001b[1;32mc:\\Users\\hare0\\AppData\\Local\\Programs\\Python\\Python310\\lib\\site-packages\\urllib3\\poolmanager.py:376\u001b[0m, in \u001b[0;36mPoolManager.urlopen\u001b[1;34m(self, method, url, redirect, **kw)\u001b[0m\n\u001b[0;32m    374\u001b[0m     response \u001b[38;5;241m=\u001b[39m conn\u001b[38;5;241m.\u001b[39murlopen(method, url, \u001b[38;5;241m*\u001b[39m\u001b[38;5;241m*\u001b[39mkw)\n\u001b[0;32m    375\u001b[0m \u001b[38;5;28;01melse\u001b[39;00m:\n\u001b[1;32m--> 376\u001b[0m     response \u001b[38;5;241m=\u001b[39m conn\u001b[38;5;241m.\u001b[39murlopen(method, u\u001b[38;5;241m.\u001b[39mrequest_uri, \u001b[38;5;241m*\u001b[39m\u001b[38;5;241m*\u001b[39mkw)\n\u001b[0;32m    378\u001b[0m redirect_location \u001b[38;5;241m=\u001b[39m redirect \u001b[38;5;129;01mand\u001b[39;00m response\u001b[38;5;241m.\u001b[39mget_redirect_location()\n\u001b[0;32m    379\u001b[0m \u001b[38;5;28;01mif\u001b[39;00m \u001b[38;5;129;01mnot\u001b[39;00m redirect_location:\n",
      "File \u001b[1;32mc:\\Users\\hare0\\AppData\\Local\\Programs\\Python\\Python310\\lib\\site-packages\\urllib3\\connectionpool.py:703\u001b[0m, in \u001b[0;36mHTTPConnectionPool.urlopen\u001b[1;34m(self, method, url, body, headers, retries, redirect, assert_same_host, timeout, pool_timeout, release_conn, chunked, body_pos, **response_kw)\u001b[0m\n\u001b[0;32m    700\u001b[0m     \u001b[38;5;28mself\u001b[39m\u001b[38;5;241m.\u001b[39m_prepare_proxy(conn)\n\u001b[0;32m    702\u001b[0m \u001b[38;5;66;03m# Make the request on the httplib connection object.\u001b[39;00m\n\u001b[1;32m--> 703\u001b[0m httplib_response \u001b[38;5;241m=\u001b[39m \u001b[38;5;28;43mself\u001b[39;49m\u001b[38;5;241;43m.\u001b[39;49m\u001b[43m_make_request\u001b[49m\u001b[43m(\u001b[49m\n\u001b[0;32m    704\u001b[0m \u001b[43m    \u001b[49m\u001b[43mconn\u001b[49m\u001b[43m,\u001b[49m\n\u001b[0;32m    705\u001b[0m \u001b[43m    \u001b[49m\u001b[43mmethod\u001b[49m\u001b[43m,\u001b[49m\n\u001b[0;32m    706\u001b[0m \u001b[43m    \u001b[49m\u001b[43murl\u001b[49m\u001b[43m,\u001b[49m\n\u001b[0;32m    707\u001b[0m \u001b[43m    \u001b[49m\u001b[43mtimeout\u001b[49m\u001b[38;5;241;43m=\u001b[39;49m\u001b[43mtimeout_obj\u001b[49m\u001b[43m,\u001b[49m\n\u001b[0;32m    708\u001b[0m \u001b[43m    \u001b[49m\u001b[43mbody\u001b[49m\u001b[38;5;241;43m=\u001b[39;49m\u001b[43mbody\u001b[49m\u001b[43m,\u001b[49m\n\u001b[0;32m    709\u001b[0m \u001b[43m    \u001b[49m\u001b[43mheaders\u001b[49m\u001b[38;5;241;43m=\u001b[39;49m\u001b[43mheaders\u001b[49m\u001b[43m,\u001b[49m\n\u001b[0;32m    710\u001b[0m \u001b[43m    \u001b[49m\u001b[43mchunked\u001b[49m\u001b[38;5;241;43m=\u001b[39;49m\u001b[43mchunked\u001b[49m\u001b[43m,\u001b[49m\n\u001b[0;32m    711\u001b[0m \u001b[43m\u001b[49m\u001b[43m)\u001b[49m\n\u001b[0;32m    713\u001b[0m \u001b[38;5;66;03m# If we're going to release the connection in ``finally:``, then\u001b[39;00m\n\u001b[0;32m    714\u001b[0m \u001b[38;5;66;03m# the response doesn't need to know about the connection. Otherwise\u001b[39;00m\n\u001b[0;32m    715\u001b[0m \u001b[38;5;66;03m# it will also try to release it and we'll have a double-release\u001b[39;00m\n\u001b[0;32m    716\u001b[0m \u001b[38;5;66;03m# mess.\u001b[39;00m\n\u001b[0;32m    717\u001b[0m response_conn \u001b[38;5;241m=\u001b[39m conn \u001b[38;5;28;01mif\u001b[39;00m \u001b[38;5;129;01mnot\u001b[39;00m release_conn \u001b[38;5;28;01melse\u001b[39;00m \u001b[38;5;28;01mNone\u001b[39;00m\n",
      "File \u001b[1;32mc:\\Users\\hare0\\AppData\\Local\\Programs\\Python\\Python310\\lib\\site-packages\\urllib3\\connectionpool.py:449\u001b[0m, in \u001b[0;36mHTTPConnectionPool._make_request\u001b[1;34m(self, conn, method, url, timeout, chunked, **httplib_request_kw)\u001b[0m\n\u001b[0;32m    444\u001b[0m             httplib_response \u001b[38;5;241m=\u001b[39m conn\u001b[38;5;241m.\u001b[39mgetresponse()\n\u001b[0;32m    445\u001b[0m         \u001b[38;5;28;01mexcept\u001b[39;00m \u001b[38;5;167;01mBaseException\u001b[39;00m \u001b[38;5;28;01mas\u001b[39;00m e:\n\u001b[0;32m    446\u001b[0m             \u001b[38;5;66;03m# Remove the TypeError from the exception chain in\u001b[39;00m\n\u001b[0;32m    447\u001b[0m             \u001b[38;5;66;03m# Python 3 (including for exceptions like SystemExit).\u001b[39;00m\n\u001b[0;32m    448\u001b[0m             \u001b[38;5;66;03m# Otherwise it looks like a bug in the code.\u001b[39;00m\n\u001b[1;32m--> 449\u001b[0m             \u001b[43msix\u001b[49m\u001b[38;5;241;43m.\u001b[39;49m\u001b[43mraise_from\u001b[49m\u001b[43m(\u001b[49m\u001b[43me\u001b[49m\u001b[43m,\u001b[49m\u001b[43m \u001b[49m\u001b[38;5;28;43;01mNone\u001b[39;49;00m\u001b[43m)\u001b[49m\n\u001b[0;32m    450\u001b[0m \u001b[38;5;28;01mexcept\u001b[39;00m (SocketTimeout, BaseSSLError, SocketError) \u001b[38;5;28;01mas\u001b[39;00m e:\n\u001b[0;32m    451\u001b[0m     \u001b[38;5;28mself\u001b[39m\u001b[38;5;241m.\u001b[39m_raise_timeout(err\u001b[38;5;241m=\u001b[39me, url\u001b[38;5;241m=\u001b[39murl, timeout_value\u001b[38;5;241m=\u001b[39mread_timeout)\n",
      "File \u001b[1;32m<string>:3\u001b[0m, in \u001b[0;36mraise_from\u001b[1;34m(value, from_value)\u001b[0m\n",
      "File \u001b[1;32mc:\\Users\\hare0\\AppData\\Local\\Programs\\Python\\Python310\\lib\\site-packages\\urllib3\\connectionpool.py:444\u001b[0m, in \u001b[0;36mHTTPConnectionPool._make_request\u001b[1;34m(self, conn, method, url, timeout, chunked, **httplib_request_kw)\u001b[0m\n\u001b[0;32m    441\u001b[0m \u001b[38;5;28;01mexcept\u001b[39;00m \u001b[38;5;167;01mTypeError\u001b[39;00m:\n\u001b[0;32m    442\u001b[0m     \u001b[38;5;66;03m# Python 3\u001b[39;00m\n\u001b[0;32m    443\u001b[0m     \u001b[38;5;28;01mtry\u001b[39;00m:\n\u001b[1;32m--> 444\u001b[0m         httplib_response \u001b[38;5;241m=\u001b[39m \u001b[43mconn\u001b[49m\u001b[38;5;241;43m.\u001b[39;49m\u001b[43mgetresponse\u001b[49m\u001b[43m(\u001b[49m\u001b[43m)\u001b[49m\n\u001b[0;32m    445\u001b[0m     \u001b[38;5;28;01mexcept\u001b[39;00m \u001b[38;5;167;01mBaseException\u001b[39;00m \u001b[38;5;28;01mas\u001b[39;00m e:\n\u001b[0;32m    446\u001b[0m         \u001b[38;5;66;03m# Remove the TypeError from the exception chain in\u001b[39;00m\n\u001b[0;32m    447\u001b[0m         \u001b[38;5;66;03m# Python 3 (including for exceptions like SystemExit).\u001b[39;00m\n\u001b[0;32m    448\u001b[0m         \u001b[38;5;66;03m# Otherwise it looks like a bug in the code.\u001b[39;00m\n\u001b[0;32m    449\u001b[0m         six\u001b[38;5;241m.\u001b[39mraise_from(e, \u001b[38;5;28;01mNone\u001b[39;00m)\n",
      "File \u001b[1;32mc:\\Users\\hare0\\AppData\\Local\\Programs\\Python\\Python310\\lib\\http\\client.py:1374\u001b[0m, in \u001b[0;36mHTTPConnection.getresponse\u001b[1;34m(self)\u001b[0m\n\u001b[0;32m   1372\u001b[0m \u001b[38;5;28;01mtry\u001b[39;00m:\n\u001b[0;32m   1373\u001b[0m     \u001b[38;5;28;01mtry\u001b[39;00m:\n\u001b[1;32m-> 1374\u001b[0m         \u001b[43mresponse\u001b[49m\u001b[38;5;241;43m.\u001b[39;49m\u001b[43mbegin\u001b[49m\u001b[43m(\u001b[49m\u001b[43m)\u001b[49m\n\u001b[0;32m   1375\u001b[0m     \u001b[38;5;28;01mexcept\u001b[39;00m \u001b[38;5;167;01mConnectionError\u001b[39;00m:\n\u001b[0;32m   1376\u001b[0m         \u001b[38;5;28mself\u001b[39m\u001b[38;5;241m.\u001b[39mclose()\n",
      "File \u001b[1;32mc:\\Users\\hare0\\AppData\\Local\\Programs\\Python\\Python310\\lib\\http\\client.py:318\u001b[0m, in \u001b[0;36mHTTPResponse.begin\u001b[1;34m(self)\u001b[0m\n\u001b[0;32m    316\u001b[0m \u001b[38;5;66;03m# read until we get a non-100 response\u001b[39;00m\n\u001b[0;32m    317\u001b[0m \u001b[38;5;28;01mwhile\u001b[39;00m \u001b[38;5;28;01mTrue\u001b[39;00m:\n\u001b[1;32m--> 318\u001b[0m     version, status, reason \u001b[38;5;241m=\u001b[39m \u001b[38;5;28;43mself\u001b[39;49m\u001b[38;5;241;43m.\u001b[39;49m\u001b[43m_read_status\u001b[49m\u001b[43m(\u001b[49m\u001b[43m)\u001b[49m\n\u001b[0;32m    319\u001b[0m     \u001b[38;5;28;01mif\u001b[39;00m status \u001b[38;5;241m!=\u001b[39m CONTINUE:\n\u001b[0;32m    320\u001b[0m         \u001b[38;5;28;01mbreak\u001b[39;00m\n",
      "File \u001b[1;32mc:\\Users\\hare0\\AppData\\Local\\Programs\\Python\\Python310\\lib\\http\\client.py:279\u001b[0m, in \u001b[0;36mHTTPResponse._read_status\u001b[1;34m(self)\u001b[0m\n\u001b[0;32m    278\u001b[0m \u001b[38;5;28;01mdef\u001b[39;00m \u001b[38;5;21m_read_status\u001b[39m(\u001b[38;5;28mself\u001b[39m):\n\u001b[1;32m--> 279\u001b[0m     line \u001b[38;5;241m=\u001b[39m \u001b[38;5;28mstr\u001b[39m(\u001b[38;5;28;43mself\u001b[39;49m\u001b[38;5;241;43m.\u001b[39;49m\u001b[43mfp\u001b[49m\u001b[38;5;241;43m.\u001b[39;49m\u001b[43mreadline\u001b[49m\u001b[43m(\u001b[49m\u001b[43m_MAXLINE\u001b[49m\u001b[43m \u001b[49m\u001b[38;5;241;43m+\u001b[39;49m\u001b[43m \u001b[49m\u001b[38;5;241;43m1\u001b[39;49m\u001b[43m)\u001b[49m, \u001b[38;5;124m\"\u001b[39m\u001b[38;5;124miso-8859-1\u001b[39m\u001b[38;5;124m\"\u001b[39m)\n\u001b[0;32m    280\u001b[0m     \u001b[38;5;28;01mif\u001b[39;00m \u001b[38;5;28mlen\u001b[39m(line) \u001b[38;5;241m>\u001b[39m _MAXLINE:\n\u001b[0;32m    281\u001b[0m         \u001b[38;5;28;01mraise\u001b[39;00m LineTooLong(\u001b[38;5;124m\"\u001b[39m\u001b[38;5;124mstatus line\u001b[39m\u001b[38;5;124m\"\u001b[39m)\n",
      "File \u001b[1;32mc:\\Users\\hare0\\AppData\\Local\\Programs\\Python\\Python310\\lib\\socket.py:705\u001b[0m, in \u001b[0;36mSocketIO.readinto\u001b[1;34m(self, b)\u001b[0m\n\u001b[0;32m    703\u001b[0m \u001b[38;5;28;01mwhile\u001b[39;00m \u001b[38;5;28;01mTrue\u001b[39;00m:\n\u001b[0;32m    704\u001b[0m     \u001b[38;5;28;01mtry\u001b[39;00m:\n\u001b[1;32m--> 705\u001b[0m         \u001b[38;5;28;01mreturn\u001b[39;00m \u001b[38;5;28;43mself\u001b[39;49m\u001b[38;5;241;43m.\u001b[39;49m\u001b[43m_sock\u001b[49m\u001b[38;5;241;43m.\u001b[39;49m\u001b[43mrecv_into\u001b[49m\u001b[43m(\u001b[49m\u001b[43mb\u001b[49m\u001b[43m)\u001b[49m\n\u001b[0;32m    706\u001b[0m     \u001b[38;5;28;01mexcept\u001b[39;00m timeout:\n\u001b[0;32m    707\u001b[0m         \u001b[38;5;28mself\u001b[39m\u001b[38;5;241m.\u001b[39m_timeout_occurred \u001b[38;5;241m=\u001b[39m \u001b[38;5;28;01mTrue\u001b[39;00m\n",
      "\u001b[1;31mKeyboardInterrupt\u001b[0m: "
     ]
    }
   ],
   "source": [
    "# webdriver_manager를 사용하여 ChromeDriver 다운로드 및 설정\n",
    "driver = webdriver.Chrome(ChromeDriverManager().install()) \n",
    "\n",
    "# driver = webdriver.Chrome()\n",
    "\n",
    "\n",
    "\n",
    "# 스크롤 횟수 \n",
    "page_down = 3\n",
    "\n",
    "# 데이터프레임 선언\n",
    "total_user_df =  pd.DataFrame()\n",
    "user_profile_df = pd.DataFrame(columns=['아이디', '리뷰', '팔로워', '팔로잉', 'url'])\n",
    "\n",
    "# 반복해서 url 정보 가져오기 \n",
    "for url in tqdm(url_list['url'], desc='진행 중', position=0, leave=True):\n",
    "    try: \n",
    "        # User의 아이디, 리뷰수, 팔로워를 가져오는 함수  \n",
    "        user_data = user_profile(url)\n",
    "        \n",
    "        # 데이터프레임으로 만들기\n",
    "        user_data_df = pd.DataFrame([user_data])\n",
    "        user_profile_df = pd.concat([user_profile_df, user_data_df], ignore_index=True)\n",
    "        \n",
    "        # User review 정보를 가져오는 함수\n",
    "        user_df = find_user_data(page_down, driver)\n",
    "\n",
    "        # User review 정보 저장 \n",
    "        total_user_df = pd.concat([total_user_df, user_df], ignore_index=True)\n",
    "\n",
    "    except Exception as e:\n",
    "        print(f\"에러 메시지: {str(e)}\")\n",
    "        continue\n"
   ]
  },
  {
   "cell_type": "markdown",
   "metadata": {},
   "source": [
    "test "
   ]
  },
  {
   "cell_type": "code",
   "execution_count": 11,
   "metadata": {},
   "outputs": [
    {
     "data": {
      "text/html": [
       "<div>\n",
       "<style scoped>\n",
       "    .dataframe tbody tr th:only-of-type {\n",
       "        vertical-align: middle;\n",
       "    }\n",
       "\n",
       "    .dataframe tbody tr th {\n",
       "        vertical-align: top;\n",
       "    }\n",
       "\n",
       "    .dataframe thead th {\n",
       "        text-align: right;\n",
       "    }\n",
       "</style>\n",
       "<table border=\"1\" class=\"dataframe\">\n",
       "  <thead>\n",
       "    <tr style=\"text-align: right;\">\n",
       "      <th></th>\n",
       "      <th>아이디</th>\n",
       "      <th>리뷰</th>\n",
       "      <th>팔로워</th>\n",
       "      <th>팔로잉</th>\n",
       "      <th>url</th>\n",
       "    </tr>\n",
       "  </thead>\n",
       "  <tbody>\n",
       "  </tbody>\n",
       "</table>\n",
       "</div>"
      ],
      "text/plain": [
       "Empty DataFrame\n",
       "Columns: [아이디, 리뷰, 팔로워, 팔로잉, url]\n",
       "Index: []"
      ]
     },
     "execution_count": 11,
     "metadata": {},
     "output_type": "execute_result"
    }
   ],
   "source": [
    "user_profile_df"
   ]
  },
  {
   "cell_type": "code",
   "execution_count": 12,
   "metadata": {},
   "outputs": [
    {
     "data": {
      "text/html": [
       "<div>\n",
       "<style scoped>\n",
       "    .dataframe tbody tr th:only-of-type {\n",
       "        vertical-align: middle;\n",
       "    }\n",
       "\n",
       "    .dataframe tbody tr th {\n",
       "        vertical-align: top;\n",
       "    }\n",
       "\n",
       "    .dataframe thead th {\n",
       "        text-align: right;\n",
       "    }\n",
       "</style>\n",
       "<table border=\"1\" class=\"dataframe\">\n",
       "  <thead>\n",
       "    <tr style=\"text-align: right;\">\n",
       "      <th></th>\n",
       "    </tr>\n",
       "  </thead>\n",
       "  <tbody>\n",
       "  </tbody>\n",
       "</table>\n",
       "</div>"
      ],
      "text/plain": [
       "Empty DataFrame\n",
       "Columns: []\n",
       "Index: []"
      ]
     },
     "execution_count": 12,
     "metadata": {},
     "output_type": "execute_result"
    }
   ],
   "source": [
    "total_user_df"
   ]
  },
  {
   "cell_type": "code",
   "execution_count": null,
   "metadata": {},
   "outputs": [],
   "source": [
    "# 유저의 리뷰\n",
    "total_user_df.to_excel('./data/4_2_naver_myPlace_크롤링_user_df_test.xlsx', index=False)\n",
    "\n",
    "# 유저의 정보 \n",
    "user_profile_df.to_excel('./data/4_2_naver_myPlace_크롤링_user_profile_df_test.xlsx', index=False)"
   ]
  }
 ],
 "metadata": {
  "kernelspec": {
   "display_name": "Python 3",
   "language": "python",
   "name": "python3"
  },
  "language_info": {
   "codemirror_mode": {
    "name": "ipython",
    "version": 3
   },
   "file_extension": ".py",
   "mimetype": "text/x-python",
   "name": "python",
   "nbconvert_exporter": "python",
   "pygments_lexer": "ipython3",
   "version": "3.10.5"
  }
 },
 "nbformat": 4,
 "nbformat_minor": 2
}
